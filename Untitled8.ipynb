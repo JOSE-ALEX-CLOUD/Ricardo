{
  "nbformat": 4,
  "nbformat_minor": 0,
  "metadata": {
    "colab": {
      "provenance": [],
      "authorship_tag": "ABX9TyPQcaIJKAz27N10yut8r/hR",
      "include_colab_link": true
    },
    "kernelspec": {
      "name": "python3",
      "display_name": "Python 3"
    },
    "language_info": {
      "name": "python"
    }
  },
  "cells": [
    {
      "cell_type": "markdown",
      "metadata": {
        "id": "view-in-github",
        "colab_type": "text"
      },
      "source": [
        "<a href=\"https://colab.research.google.com/github/JOSE-ALEX-CLOUD/Ricardo/blob/main/Untitled8.ipynb\" target=\"_parent\"><img src=\"https://colab.research.google.com/assets/colab-badge.svg\" alt=\"Open In Colab\"/></a>"
      ]
    },
    {
      "cell_type": "markdown",
      "source": [
        "Exemplo 03) Programa para Verificar par ou impar"
      ],
      "metadata": {
        "id": "og7Zc_ZqK9mG"
      }
    },
    {
      "cell_type": "code",
      "execution_count": 6,
      "metadata": {
        "colab": {
          "base_uri": "https://localhost:8080/"
        },
        "id": "dlOo_SIO9OpX",
        "outputId": "0b9bd79a-613d-435c-a4bb-465b688286de"
      },
      "outputs": [
        {
          "output_type": "stream",
          "name": "stdout",
          "text": [
            "Digite um número inteiro:16\n",
            "o número 16 é par.\n"
          ]
        }
      ],
      "source": [
        "numero = int(input(\"Digite um número inteiro:\"))\n",
        "\n",
        "# Verifica se o número é par ou impar\n",
        "if numero % 2 == 0:\n",
        " print(f\"o número {numero} é par.\")\n",
        "else:\n",
        " print(f\"O numero {numero} é impar.\")"
      ]
    },
    {
      "cell_type": "markdown",
      "source": [],
      "metadata": {
        "id": "zgtlLRxGK8FX"
      }
    }
  ]
}