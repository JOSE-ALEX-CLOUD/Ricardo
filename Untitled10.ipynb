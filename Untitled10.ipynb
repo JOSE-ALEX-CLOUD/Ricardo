{
  "nbformat": 4,
  "nbformat_minor": 0,
  "metadata": {
    "colab": {
      "provenance": [],
      "authorship_tag": "ABX9TyPXGIiH8wB0DIXetMECykpc",
      "include_colab_link": true
    },
    "kernelspec": {
      "name": "python3",
      "display_name": "Python 3"
    },
    "language_info": {
      "name": "python"
    }
  },
  "cells": [
    {
      "cell_type": "markdown",
      "metadata": {
        "id": "view-in-github",
        "colab_type": "text"
      },
      "source": [
        "<a href=\"https://colab.research.google.com/github/JOSE-ALEX-CLOUD/Ricardo/blob/main/Untitled10.ipynb\" target=\"_parent\"><img src=\"https://colab.research.google.com/assets/colab-badge.svg\" alt=\"Open In Colab\"/></a>"
      ]
    },
    {
      "cell_type": "code",
      "execution_count": 2,
      "metadata": {
        "colab": {
          "base_uri": "https://localhost:8080/"
        },
        "id": "FDzb8mfbCYhe",
        "outputId": "41cc1069-9173-4f48-9386-b541dd6e5993"
      },
      "outputs": [
        {
          "output_type": "stream",
          "name": "stdout",
          "text": [
            "Digite um número inteiro: 9\n",
            "O número é múltiplo de 3.\n"
          ]
        }
      ],
      "source": [
        "# Solicita ao usuário um valor inteiro\n",
        "numero = int(input(\"Digite um número inteiro: \"))\n",
        "\n",
        "# Verifica se o número é múltiplo de 3\n",
        "if numero % 3 == 0:\n",
        "    print(\"O número é múltiplo de 3.\")\n",
        "else:\n",
        "    print(\"O número não é múltiplo de 3.\")"
      ]
    }
  ]
}