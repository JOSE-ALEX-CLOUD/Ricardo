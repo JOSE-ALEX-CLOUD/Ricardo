{
  "nbformat": 4,
  "nbformat_minor": 0,
  "metadata": {
    "colab": {
      "provenance": [],
      "authorship_tag": "ABX9TyMqTGTxTdZ8oaRjMxk1oyk1",
      "include_colab_link": true
    },
    "kernelspec": {
      "name": "python3",
      "display_name": "Python 3"
    },
    "language_info": {
      "name": "python"
    }
  },
  "cells": [
    {
      "cell_type": "markdown",
      "metadata": {
        "id": "view-in-github",
        "colab_type": "text"
      },
      "source": [
        "<a href=\"https://colab.research.google.com/github/igarashimassaki/TurmaPROD/blob/main/Programa1.ipynb\" target=\"_parent\"><img src=\"https://colab.research.google.com/assets/colab-badge.svg\" alt=\"Open In Colab\"/></a>"
      ]
    },
    {
      "cell_type": "markdown",
      "source": [
        "#Explicações do Professor\n",
        "Nestas aula aprendemos a criar nosso grit hub e os primeiros passos de Linguagem Python"
      ],
      "metadata": {
        "id": "k3t9Kp48WSEM"
      }
    },
    {
      "cell_type": "code",
      "execution_count": 7,
      "metadata": {
        "colab": {
          "base_uri": "https://localhost:8080/"
        },
        "id": "bXELYdAwDupC",
        "outputId": "13c13963-c9a3-43e5-d3e9-e744e7bce7dc"
      },
      "outputs": [
        {
          "output_type": "stream",
          "name": "stdout",
          "text": [
            "Digite valor: 9\n",
            "9\n",
            "Quociente =  4\n",
            "Resto =  1\n"
          ]
        }
      ],
      "source": [
        "#Comentários\n",
        "num = int(input(\"Digite valor: \"))\n",
        "print(num)\n",
        "quoc = num//2\n",
        "resto = num%2\n",
        "print(\"Quociente = \", quoc)\n",
        "print(\"Resto = \", resto)"
      ]
    }
  ]
}