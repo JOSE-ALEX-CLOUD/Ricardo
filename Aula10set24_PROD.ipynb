{
  "nbformat": 4,
  "nbformat_minor": 0,
  "metadata": {
    "colab": {
      "provenance": [],
      "authorship_tag": "ABX9TyOJYDrPzKCR/rLz5yCjXq+y",
      "include_colab_link": true
    },
    "kernelspec": {
      "name": "python3",
      "display_name": "Python 3"
    },
    "language_info": {
      "name": "python"
    }
  },
  "cells": [
    {
      "cell_type": "markdown",
      "metadata": {
        "id": "view-in-github",
        "colab_type": "text"
      },
      "source": [
        "<a href=\"https://colab.research.google.com/github/igarashimassaki/TurmaPROD/blob/main/Aula10set24_PROD.ipynb\" target=\"_parent\"><img src=\"https://colab.research.google.com/assets/colab-badge.svg\" alt=\"Open In Colab\"/></a>"
      ]
    },
    {
      "cell_type": "markdown",
      "source": [
        "#Exemplo 03) Programa para Verificar se PAR ou IMPAR"
      ],
      "metadata": {
        "id": "uVGs_BNiKNmu"
      }
    },
    {
      "cell_type": "code",
      "execution_count": 3,
      "metadata": {
        "colab": {
          "base_uri": "https://localhost:8080/"
        },
        "id": "r0TVwkFy9OfS",
        "outputId": "d5ea7eb3-203c-48a9-dc82-7377793adc8e"
      },
      "outputs": [
        {
          "output_type": "stream",
          "name": "stdout",
          "text": [
            "Digite numero inteiro: 99\n",
            "O numero 99 é ÍMPAR\n"
          ]
        }
      ],
      "source": [
        "numero = int(input(\"Digite numero inteiro: \"))\n",
        "if numero % 2 == 0:\n",
        "  print(f\"O numero {numero} é PAR\")\n",
        "else:\n",
        "  print(f\"O numero {numero} é ÍMPAR\")\n"
      ]
    }
  ]
}