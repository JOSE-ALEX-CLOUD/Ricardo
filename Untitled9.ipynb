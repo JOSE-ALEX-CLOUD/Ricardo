{
  "nbformat": 4,
  "nbformat_minor": 0,
  "metadata": {
    "colab": {
      "provenance": [],
      "authorship_tag": "ABX9TyOn1agofAR3ysK25GFshyG+",
      "include_colab_link": true
    },
    "kernelspec": {
      "name": "python3",
      "display_name": "Python 3"
    },
    "language_info": {
      "name": "python"
    }
  },
  "cells": [
    {
      "cell_type": "markdown",
      "metadata": {
        "id": "view-in-github",
        "colab_type": "text"
      },
      "source": [
        "<a href=\"https://colab.research.google.com/github/JOSE-ALEX-CLOUD/Ricardo/blob/main/Untitled9.ipynb\" target=\"_parent\"><img src=\"https://colab.research.google.com/assets/colab-badge.svg\" alt=\"Open In Colab\"/></a>"
      ]
    },
    {
      "cell_type": "code",
      "execution_count": 8,
      "metadata": {
        "colab": {
          "base_uri": "https://localhost:8080/"
        },
        "id": "37758Uq3Pi35",
        "outputId": "ca79b6a7-2a4a-430b-eb65-f9225cdf1823"
      },
      "outputs": [
        {
          "output_type": "stream",
          "name": "stdout",
          "text": [
            "digite um numero: 9\n",
            "a raiz quadrada de 9.0 é 3.00.\n"
          ]
        }
      ],
      "source": [
        "import math\n",
        "\n",
        "# solicita ao usuario que insira um numero\n",
        "numero = float(input(\"digite um numero: \"))\n",
        "\n",
        "# verifica se o numero é maior ou igual a zero\n",
        "if numero >= 0:\n",
        "  raiz_quadrada = math.sqrt(numero)\n",
        "  print(f\"a raiz quadrada de {numero} é {raiz_quadrada:.2f}.\")\n",
        "else:\n",
        "  print(\"não existe raiz real para este numero!\")"
      ]
    }
  ]
}